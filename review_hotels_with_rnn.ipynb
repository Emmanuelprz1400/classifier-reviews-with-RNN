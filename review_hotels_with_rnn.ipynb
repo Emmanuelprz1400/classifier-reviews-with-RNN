{
  "cells": [
    {
      "cell_type": "markdown",
      "metadata": {
        "id": "view-in-github",
        "colab_type": "text"
      },
      "source": [
        "<a href=\"https://colab.research.google.com/github/Emmanuelprz1400/classifier-reviews-with-RNN/blob/main/review_hotels_with_rnn.ipynb\" target=\"_parent\"><img src=\"https://colab.research.google.com/assets/colab-badge.svg\" alt=\"Open In Colab\"/></a>"
      ]
    },
    {
      "cell_type": "markdown",
      "source": [
        "#Cargar bibliotecas"
      ],
      "metadata": {
        "id": "TL_L9DJ7Enay"
      }
    },
    {
      "cell_type": "code",
      "source": [
        "import pandas as pd\n",
        "import numpy as np\n",
        "import matplotlib.pyplot as plt\n",
        "import gensim  # para cargar modelo w2v\n",
        "from collections import Counter\n",
        "from sklearn.model_selection import train_test_split\n",
        "from sklearn.preprocessing import LabelEncoder\n",
        "import gensim.parsing.preprocessing as gpp\n",
        "\n",
        "\n",
        "from tensorflow.keras.preprocessing.sequence import pad_sequences\n",
        "from tensorflow.keras.utils import to_categorical\n",
        "from tensorflow.keras.preprocessing.text import Tokenizer\n",
        "\n",
        "import tensorflow\n",
        "from tensorflow.keras import Sequential, Model, Input\n",
        "from tensorflow.keras.layers import LSTM, Embedding, Dense, TimeDistributed, Dropout, Bidirectional\n",
        "from tensorflow.keras.initializers import Constant\n",
        "from tensorflow.keras.utils import plot_model"
      ],
      "metadata": {
        "id": "5qvo9JOAl6Ye"
      },
      "execution_count": null,
      "outputs": []
    },
    {
      "cell_type": "markdown",
      "metadata": {
        "id": "FhHpvnbT43M5"
      },
      "source": [
        "# 1. Exploración de los datos"
      ]
    },
    {
      "cell_type": "code",
      "execution_count": null,
      "metadata": {
        "id": "xBdQdSiC43M8",
        "colab": {
          "base_uri": "https://localhost:8080/",
          "height": 206
        },
        "outputId": "165a2197-7896-47c7-feda-0d59ba3b2bc9"
      },
      "outputs": [
        {
          "output_type": "execute_result",
          "data": {
            "text/plain": [
              "   polarity                                               text\n",
              "0  positive  We stayed for a one night getaway with family ...\n",
              "1  positive  Triple A rate with upgrade to view room was le...\n",
              "2  positive  This comes a little late as I'm finally catchi...\n",
              "3  positive  The Omni Chicago really delivers on all fronts...\n",
              "4  positive  I asked for a high floor away from the elevato..."
            ],
            "text/html": [
              "\n",
              "  <div id=\"df-511f2d0d-73ae-4964-be77-b675cee336db\" class=\"colab-df-container\">\n",
              "    <div>\n",
              "<style scoped>\n",
              "    .dataframe tbody tr th:only-of-type {\n",
              "        vertical-align: middle;\n",
              "    }\n",
              "\n",
              "    .dataframe tbody tr th {\n",
              "        vertical-align: top;\n",
              "    }\n",
              "\n",
              "    .dataframe thead th {\n",
              "        text-align: right;\n",
              "    }\n",
              "</style>\n",
              "<table border=\"1\" class=\"dataframe\">\n",
              "  <thead>\n",
              "    <tr style=\"text-align: right;\">\n",
              "      <th></th>\n",
              "      <th>polarity</th>\n",
              "      <th>text</th>\n",
              "    </tr>\n",
              "  </thead>\n",
              "  <tbody>\n",
              "    <tr>\n",
              "      <th>0</th>\n",
              "      <td>positive</td>\n",
              "      <td>We stayed for a one night getaway with family ...</td>\n",
              "    </tr>\n",
              "    <tr>\n",
              "      <th>1</th>\n",
              "      <td>positive</td>\n",
              "      <td>Triple A rate with upgrade to view room was le...</td>\n",
              "    </tr>\n",
              "    <tr>\n",
              "      <th>2</th>\n",
              "      <td>positive</td>\n",
              "      <td>This comes a little late as I'm finally catchi...</td>\n",
              "    </tr>\n",
              "    <tr>\n",
              "      <th>3</th>\n",
              "      <td>positive</td>\n",
              "      <td>The Omni Chicago really delivers on all fronts...</td>\n",
              "    </tr>\n",
              "    <tr>\n",
              "      <th>4</th>\n",
              "      <td>positive</td>\n",
              "      <td>I asked for a high floor away from the elevato...</td>\n",
              "    </tr>\n",
              "  </tbody>\n",
              "</table>\n",
              "</div>\n",
              "    <div class=\"colab-df-buttons\">\n",
              "\n",
              "  <div class=\"colab-df-container\">\n",
              "    <button class=\"colab-df-convert\" onclick=\"convertToInteractive('df-511f2d0d-73ae-4964-be77-b675cee336db')\"\n",
              "            title=\"Convert this dataframe to an interactive table.\"\n",
              "            style=\"display:none;\">\n",
              "\n",
              "  <svg xmlns=\"http://www.w3.org/2000/svg\" height=\"24px\" viewBox=\"0 -960 960 960\">\n",
              "    <path d=\"M120-120v-720h720v720H120Zm60-500h600v-160H180v160Zm220 220h160v-160H400v160Zm0 220h160v-160H400v160ZM180-400h160v-160H180v160Zm440 0h160v-160H620v160ZM180-180h160v-160H180v160Zm440 0h160v-160H620v160Z\"/>\n",
              "  </svg>\n",
              "    </button>\n",
              "\n",
              "  <style>\n",
              "    .colab-df-container {\n",
              "      display:flex;\n",
              "      gap: 12px;\n",
              "    }\n",
              "\n",
              "    .colab-df-convert {\n",
              "      background-color: #E8F0FE;\n",
              "      border: none;\n",
              "      border-radius: 50%;\n",
              "      cursor: pointer;\n",
              "      display: none;\n",
              "      fill: #1967D2;\n",
              "      height: 32px;\n",
              "      padding: 0 0 0 0;\n",
              "      width: 32px;\n",
              "    }\n",
              "\n",
              "    .colab-df-convert:hover {\n",
              "      background-color: #E2EBFA;\n",
              "      box-shadow: 0px 1px 2px rgba(60, 64, 67, 0.3), 0px 1px 3px 1px rgba(60, 64, 67, 0.15);\n",
              "      fill: #174EA6;\n",
              "    }\n",
              "\n",
              "    .colab-df-buttons div {\n",
              "      margin-bottom: 4px;\n",
              "    }\n",
              "\n",
              "    [theme=dark] .colab-df-convert {\n",
              "      background-color: #3B4455;\n",
              "      fill: #D2E3FC;\n",
              "    }\n",
              "\n",
              "    [theme=dark] .colab-df-convert:hover {\n",
              "      background-color: #434B5C;\n",
              "      box-shadow: 0px 1px 3px 1px rgba(0, 0, 0, 0.15);\n",
              "      filter: drop-shadow(0px 1px 2px rgba(0, 0, 0, 0.3));\n",
              "      fill: #FFFFFF;\n",
              "    }\n",
              "  </style>\n",
              "\n",
              "    <script>\n",
              "      const buttonEl =\n",
              "        document.querySelector('#df-511f2d0d-73ae-4964-be77-b675cee336db button.colab-df-convert');\n",
              "      buttonEl.style.display =\n",
              "        google.colab.kernel.accessAllowed ? 'block' : 'none';\n",
              "\n",
              "      async function convertToInteractive(key) {\n",
              "        const element = document.querySelector('#df-511f2d0d-73ae-4964-be77-b675cee336db');\n",
              "        const dataTable =\n",
              "          await google.colab.kernel.invokeFunction('convertToInteractive',\n",
              "                                                    [key], {});\n",
              "        if (!dataTable) return;\n",
              "\n",
              "        const docLinkHtml = 'Like what you see? Visit the ' +\n",
              "          '<a target=\"_blank\" href=https://colab.research.google.com/notebooks/data_table.ipynb>data table notebook</a>'\n",
              "          + ' to learn more about interactive tables.';\n",
              "        element.innerHTML = '';\n",
              "        dataTable['output_type'] = 'display_data';\n",
              "        await google.colab.output.renderOutput(dataTable, element);\n",
              "        const docLink = document.createElement('div');\n",
              "        docLink.innerHTML = docLinkHtml;\n",
              "        element.appendChild(docLink);\n",
              "      }\n",
              "    </script>\n",
              "  </div>\n",
              "\n",
              "\n",
              "<div id=\"df-69f799c2-be4b-41dd-bf47-fb6e58412e3e\">\n",
              "  <button class=\"colab-df-quickchart\" onclick=\"quickchart('df-69f799c2-be4b-41dd-bf47-fb6e58412e3e')\"\n",
              "            title=\"Suggest charts\"\n",
              "            style=\"display:none;\">\n",
              "\n",
              "<svg xmlns=\"http://www.w3.org/2000/svg\" height=\"24px\"viewBox=\"0 0 24 24\"\n",
              "     width=\"24px\">\n",
              "    <g>\n",
              "        <path d=\"M19 3H5c-1.1 0-2 .9-2 2v14c0 1.1.9 2 2 2h14c1.1 0 2-.9 2-2V5c0-1.1-.9-2-2-2zM9 17H7v-7h2v7zm4 0h-2V7h2v10zm4 0h-2v-4h2v4z\"/>\n",
              "    </g>\n",
              "</svg>\n",
              "  </button>\n",
              "\n",
              "<style>\n",
              "  .colab-df-quickchart {\n",
              "      --bg-color: #E8F0FE;\n",
              "      --fill-color: #1967D2;\n",
              "      --hover-bg-color: #E2EBFA;\n",
              "      --hover-fill-color: #174EA6;\n",
              "      --disabled-fill-color: #AAA;\n",
              "      --disabled-bg-color: #DDD;\n",
              "  }\n",
              "\n",
              "  [theme=dark] .colab-df-quickchart {\n",
              "      --bg-color: #3B4455;\n",
              "      --fill-color: #D2E3FC;\n",
              "      --hover-bg-color: #434B5C;\n",
              "      --hover-fill-color: #FFFFFF;\n",
              "      --disabled-bg-color: #3B4455;\n",
              "      --disabled-fill-color: #666;\n",
              "  }\n",
              "\n",
              "  .colab-df-quickchart {\n",
              "    background-color: var(--bg-color);\n",
              "    border: none;\n",
              "    border-radius: 50%;\n",
              "    cursor: pointer;\n",
              "    display: none;\n",
              "    fill: var(--fill-color);\n",
              "    height: 32px;\n",
              "    padding: 0;\n",
              "    width: 32px;\n",
              "  }\n",
              "\n",
              "  .colab-df-quickchart:hover {\n",
              "    background-color: var(--hover-bg-color);\n",
              "    box-shadow: 0 1px 2px rgba(60, 64, 67, 0.3), 0 1px 3px 1px rgba(60, 64, 67, 0.15);\n",
              "    fill: var(--button-hover-fill-color);\n",
              "  }\n",
              "\n",
              "  .colab-df-quickchart-complete:disabled,\n",
              "  .colab-df-quickchart-complete:disabled:hover {\n",
              "    background-color: var(--disabled-bg-color);\n",
              "    fill: var(--disabled-fill-color);\n",
              "    box-shadow: none;\n",
              "  }\n",
              "\n",
              "  .colab-df-spinner {\n",
              "    border: 2px solid var(--fill-color);\n",
              "    border-color: transparent;\n",
              "    border-bottom-color: var(--fill-color);\n",
              "    animation:\n",
              "      spin 1s steps(1) infinite;\n",
              "  }\n",
              "\n",
              "  @keyframes spin {\n",
              "    0% {\n",
              "      border-color: transparent;\n",
              "      border-bottom-color: var(--fill-color);\n",
              "      border-left-color: var(--fill-color);\n",
              "    }\n",
              "    20% {\n",
              "      border-color: transparent;\n",
              "      border-left-color: var(--fill-color);\n",
              "      border-top-color: var(--fill-color);\n",
              "    }\n",
              "    30% {\n",
              "      border-color: transparent;\n",
              "      border-left-color: var(--fill-color);\n",
              "      border-top-color: var(--fill-color);\n",
              "      border-right-color: var(--fill-color);\n",
              "    }\n",
              "    40% {\n",
              "      border-color: transparent;\n",
              "      border-right-color: var(--fill-color);\n",
              "      border-top-color: var(--fill-color);\n",
              "    }\n",
              "    60% {\n",
              "      border-color: transparent;\n",
              "      border-right-color: var(--fill-color);\n",
              "    }\n",
              "    80% {\n",
              "      border-color: transparent;\n",
              "      border-right-color: var(--fill-color);\n",
              "      border-bottom-color: var(--fill-color);\n",
              "    }\n",
              "    90% {\n",
              "      border-color: transparent;\n",
              "      border-bottom-color: var(--fill-color);\n",
              "    }\n",
              "  }\n",
              "</style>\n",
              "\n",
              "  <script>\n",
              "    async function quickchart(key) {\n",
              "      const quickchartButtonEl =\n",
              "        document.querySelector('#' + key + ' button');\n",
              "      quickchartButtonEl.disabled = true;  // To prevent multiple clicks.\n",
              "      quickchartButtonEl.classList.add('colab-df-spinner');\n",
              "      try {\n",
              "        const charts = await google.colab.kernel.invokeFunction(\n",
              "            'suggestCharts', [key], {});\n",
              "      } catch (error) {\n",
              "        console.error('Error during call to suggestCharts:', error);\n",
              "      }\n",
              "      quickchartButtonEl.classList.remove('colab-df-spinner');\n",
              "      quickchartButtonEl.classList.add('colab-df-quickchart-complete');\n",
              "    }\n",
              "    (() => {\n",
              "      let quickchartButtonEl =\n",
              "        document.querySelector('#df-69f799c2-be4b-41dd-bf47-fb6e58412e3e button');\n",
              "      quickchartButtonEl.style.display =\n",
              "        google.colab.kernel.accessAllowed ? 'block' : 'none';\n",
              "    })();\n",
              "  </script>\n",
              "</div>\n",
              "\n",
              "    </div>\n",
              "  </div>\n"
            ],
            "application/vnd.google.colaboratory.intrinsic+json": {
              "type": "dataframe",
              "variable_name": "data",
              "summary": "{\n  \"name\": \"data\",\n  \"rows\": 1600,\n  \"fields\": [\n    {\n      \"column\": \"polarity\",\n      \"properties\": {\n        \"dtype\": \"category\",\n        \"num_unique_values\": 2,\n        \"samples\": [\n          \"negative\",\n          \"positive\"\n        ],\n        \"semantic_type\": \"\",\n        \"description\": \"\"\n      }\n    },\n    {\n      \"column\": \"text\",\n      \"properties\": {\n        \"dtype\": \"string\",\n        \"num_unique_values\": 1596,\n        \"samples\": [\n          \"We booked thru hotwire which we have a high percentage of positive outcomes. I was very happy when we saw that we would be staying at The Knickerbocker-as I had stayed when I was younger. We reserved a King Non-Smoker. Upon arriving we were told that they did not have that and we only had the choice of a Smoking room. When argued they stated 'well you booked thru hotwire so you do not have priority'. As we entered the room I noticed the bathroom door was off track and the bathroom light did not turn on. We called the front desk and they fixed the door but not the light. Later that eveing as I took a shower the seal around the shower was so poor water got all over the floor and towels. Also, I must add the room reaked of smoke. The next day when we checked the front desk clerk asked how our stay was and when we told him the problems, he told us the total and had not concern of our issues. We also checked in our bags for the day, and the bellmen came quickly and made very rude comments about us hurrying up so he could get on with his day. We realized a bit later that we forgot something in one of the bags and was told they would not get them back out. STAY AWAY-even if you get a good deal!!\\n\",\n          \"This hotel is rather stupid to be frank. It's a horrible attempt to be retro-sheek but ends up looking similar to that Saturday Night live skit where things are so sheek that they are not functional. The rooms are about the size of a shoe box and there isn't much in them. I actually like the Pedestal in the bathroom but there is no sink. I had to put my make-up on using the toliet for 5-days. It also took me 10-minutes to figure out how to turn on the shower and the bathroom is more like a closet then anything. I had guests over one evening and everyone could hear everyone pee b/c the bathroom doors aren't doors at all and there is no bathroom fan! It was just over the top for me and lots of costruction nearby to keep you up at night. On a good note, the staff are really friendly and the place is really clean. That's about the only good thing I can say about this place. I would not go back.\\n\"\n        ],\n        \"semantic_type\": \"\",\n        \"description\": \"\"\n      }\n    }\n  ]\n}"
            }
          },
          "metadata": {},
          "execution_count": 2
        }
      ],
      "source": [
        "csv_file =\"https://raw.githubusercontent.com/AnIsAsPe/LogisticRegression_SpamOpinion/master/Datos/deceptive-opinion.csv\"\n",
        "data = pd.read_csv(csv_file, encoding= 'unicode_escape', usecols =[2,4])\n",
        "data = data.fillna( method='ffill', axis=0)\n",
        "data.head()"
      ]
    },
    {
      "cell_type": "code",
      "source": [
        "data.loc[:50]"
      ],
      "metadata": {
        "id": "tPg9JY54jvYW",
        "colab": {
          "base_uri": "https://localhost:8080/",
          "height": 1000
        },
        "outputId": "d9e2cb9c-8606-4547-e2c8-8e41a465ab47"
      },
      "execution_count": null,
      "outputs": [
        {
          "output_type": "execute_result",
          "data": {
            "text/plain": [
              "    polarity                                               text\n",
              "0   positive  We stayed for a one night getaway with family ...\n",
              "1   positive  Triple A rate with upgrade to view room was le...\n",
              "2   positive  This comes a little late as I'm finally catchi...\n",
              "3   positive  The Omni Chicago really delivers on all fronts...\n",
              "4   positive  I asked for a high floor away from the elevato...\n",
              "5   positive  I stayed at the Omni for one night following a...\n",
              "6   positive  We stayed in the Conrad for 4 nights just befo...\n",
              "7   positive  Just got back from 2 days up in Chicago shoppi...\n",
              "8   positive  We arrived at the Omni on 2nd September for a ...\n",
              "9   positive  On our visit to Chicago, we chose the Hyatt du...\n",
              "10  positive  I stayed at the Fairmont Chicago for one night...\n",
              "11  positive  Ok, so first trip to chicago and I was a litll...\n",
              "12  positive  We arrived at 10:30 am on a Friday, and they h...\n",
              "13  positive  My wife and I came to spend the weekend in dow...\n",
              "14  positive  I got a Sunday night stay for only $50 off of ...\n",
              "15  positive  This is a superb hotel. The rooms are huge, in...\n",
              "16  positive  We stayed at the Conrad for 2 nights for a fri...\n",
              "17  positive  The Conrad Hotel is a beautiful hotel. Our roo...\n",
              "18  positive  My boyfriend and I decided to stay at the Conr...\n",
              "19  positive  Got a good deal on a weekend pacage in this Ho...\n",
              "20  positive  I stayed at the Fairmont for a few nights and ...\n",
              "21  positive  We went to Chicago to see an exhibit at the Ar...\n",
              "22  positive  I actually booked this reservation with the ho...\n",
              "23  positive  Named my price on priceline. $50.00 Bucks. Hot...\n",
              "24  positive  Check-in was fast, the room was perfect, and t...\n",
              "25  positive  Arrived on 06/04/05, greeted by friendly doorm...\n",
              "26  positive  Simply a nice place to stay... I had a great d...\n",
              "27  positive  We stayed at the Conrad for only one evening b...\n",
              "28  positive  We spent a week in this hotel and were very pl...\n",
              "29  positive  I booked a room at the Hyatt through Priceline...\n",
              "30  positive  This hotel is the perfect location for downtow...\n",
              "31  positive  The Omni is in a fabulous location on Michigan...\n",
              "32  positive  Stayed in a Junior Suite which was beautiful a...\n",
              "33  positive  I'll keep it short. My wife, daughter and I st...\n",
              "34  positive  My husband and I were in the Fairmont Chicago ...\n",
              "35  positive  I stayed at the Fairmont during a professional...\n",
              "36  positive  Great hotel in a wonderful location. I stayed ...\n",
              "37  positive  We have just returned from 4 nights at the Con...\n",
              "38  positive  Nestled just off the beaten path and about two...\n",
              "39  positive  I stayed at the Omni with a Band that what in ...\n",
              "40  positive  Great location and quality place to stay. Love...\n",
              "41  positive  We paid $75 a night through Priceline, which i...\n",
              "42  positive  We booked our room on Priceline, and got a goo...\n",
              "43  positive  My husband and I decided to take a trip to Chi...\n",
              "44  positive  Staff were friendly, room was well kept like a...\n",
              "45  positive  I stayed at the Fairmont to attend a conferenc...\n",
              "46  positive  I stayed here for business and loved it. Got i...\n",
              "47  positive  Just back from 5 night stay at Omni and would ...\n",
              "48  positive  For the price of the Marriott we spent a night...\n",
              "49  positive  The concierge was so helpful. Without hesitati...\n",
              "50  positive  We got a great deal on this hotel, just $91 fo..."
            ],
            "text/html": [
              "\n",
              "  <div id=\"df-868ca7c3-d3cc-49f6-86b0-c3e8aa24e3cc\" class=\"colab-df-container\">\n",
              "    <div>\n",
              "<style scoped>\n",
              "    .dataframe tbody tr th:only-of-type {\n",
              "        vertical-align: middle;\n",
              "    }\n",
              "\n",
              "    .dataframe tbody tr th {\n",
              "        vertical-align: top;\n",
              "    }\n",
              "\n",
              "    .dataframe thead th {\n",
              "        text-align: right;\n",
              "    }\n",
              "</style>\n",
              "<table border=\"1\" class=\"dataframe\">\n",
              "  <thead>\n",
              "    <tr style=\"text-align: right;\">\n",
              "      <th></th>\n",
              "      <th>polarity</th>\n",
              "      <th>text</th>\n",
              "    </tr>\n",
              "  </thead>\n",
              "  <tbody>\n",
              "    <tr>\n",
              "      <th>0</th>\n",
              "      <td>positive</td>\n",
              "      <td>We stayed for a one night getaway with family ...</td>\n",
              "    </tr>\n",
              "    <tr>\n",
              "      <th>1</th>\n",
              "      <td>positive</td>\n",
              "      <td>Triple A rate with upgrade to view room was le...</td>\n",
              "    </tr>\n",
              "    <tr>\n",
              "      <th>2</th>\n",
              "      <td>positive</td>\n",
              "      <td>This comes a little late as I'm finally catchi...</td>\n",
              "    </tr>\n",
              "    <tr>\n",
              "      <th>3</th>\n",
              "      <td>positive</td>\n",
              "      <td>The Omni Chicago really delivers on all fronts...</td>\n",
              "    </tr>\n",
              "    <tr>\n",
              "      <th>4</th>\n",
              "      <td>positive</td>\n",
              "      <td>I asked for a high floor away from the elevato...</td>\n",
              "    </tr>\n",
              "    <tr>\n",
              "      <th>5</th>\n",
              "      <td>positive</td>\n",
              "      <td>I stayed at the Omni for one night following a...</td>\n",
              "    </tr>\n",
              "    <tr>\n",
              "      <th>6</th>\n",
              "      <td>positive</td>\n",
              "      <td>We stayed in the Conrad for 4 nights just befo...</td>\n",
              "    </tr>\n",
              "    <tr>\n",
              "      <th>7</th>\n",
              "      <td>positive</td>\n",
              "      <td>Just got back from 2 days up in Chicago shoppi...</td>\n",
              "    </tr>\n",
              "    <tr>\n",
              "      <th>8</th>\n",
              "      <td>positive</td>\n",
              "      <td>We arrived at the Omni on 2nd September for a ...</td>\n",
              "    </tr>\n",
              "    <tr>\n",
              "      <th>9</th>\n",
              "      <td>positive</td>\n",
              "      <td>On our visit to Chicago, we chose the Hyatt du...</td>\n",
              "    </tr>\n",
              "    <tr>\n",
              "      <th>10</th>\n",
              "      <td>positive</td>\n",
              "      <td>I stayed at the Fairmont Chicago for one night...</td>\n",
              "    </tr>\n",
              "    <tr>\n",
              "      <th>11</th>\n",
              "      <td>positive</td>\n",
              "      <td>Ok, so first trip to chicago and I was a litll...</td>\n",
              "    </tr>\n",
              "    <tr>\n",
              "      <th>12</th>\n",
              "      <td>positive</td>\n",
              "      <td>We arrived at 10:30 am on a Friday, and they h...</td>\n",
              "    </tr>\n",
              "    <tr>\n",
              "      <th>13</th>\n",
              "      <td>positive</td>\n",
              "      <td>My wife and I came to spend the weekend in dow...</td>\n",
              "    </tr>\n",
              "    <tr>\n",
              "      <th>14</th>\n",
              "      <td>positive</td>\n",
              "      <td>I got a Sunday night stay for only $50 off of ...</td>\n",
              "    </tr>\n",
              "    <tr>\n",
              "      <th>15</th>\n",
              "      <td>positive</td>\n",
              "      <td>This is a superb hotel. The rooms are huge, in...</td>\n",
              "    </tr>\n",
              "    <tr>\n",
              "      <th>16</th>\n",
              "      <td>positive</td>\n",
              "      <td>We stayed at the Conrad for 2 nights for a fri...</td>\n",
              "    </tr>\n",
              "    <tr>\n",
              "      <th>17</th>\n",
              "      <td>positive</td>\n",
              "      <td>The Conrad Hotel is a beautiful hotel. Our roo...</td>\n",
              "    </tr>\n",
              "    <tr>\n",
              "      <th>18</th>\n",
              "      <td>positive</td>\n",
              "      <td>My boyfriend and I decided to stay at the Conr...</td>\n",
              "    </tr>\n",
              "    <tr>\n",
              "      <th>19</th>\n",
              "      <td>positive</td>\n",
              "      <td>Got a good deal on a weekend pacage in this Ho...</td>\n",
              "    </tr>\n",
              "    <tr>\n",
              "      <th>20</th>\n",
              "      <td>positive</td>\n",
              "      <td>I stayed at the Fairmont for a few nights and ...</td>\n",
              "    </tr>\n",
              "    <tr>\n",
              "      <th>21</th>\n",
              "      <td>positive</td>\n",
              "      <td>We went to Chicago to see an exhibit at the Ar...</td>\n",
              "    </tr>\n",
              "    <tr>\n",
              "      <th>22</th>\n",
              "      <td>positive</td>\n",
              "      <td>I actually booked this reservation with the ho...</td>\n",
              "    </tr>\n",
              "    <tr>\n",
              "      <th>23</th>\n",
              "      <td>positive</td>\n",
              "      <td>Named my price on priceline. $50.00 Bucks. Hot...</td>\n",
              "    </tr>\n",
              "    <tr>\n",
              "      <th>24</th>\n",
              "      <td>positive</td>\n",
              "      <td>Check-in was fast, the room was perfect, and t...</td>\n",
              "    </tr>\n",
              "    <tr>\n",
              "      <th>25</th>\n",
              "      <td>positive</td>\n",
              "      <td>Arrived on 06/04/05, greeted by friendly doorm...</td>\n",
              "    </tr>\n",
              "    <tr>\n",
              "      <th>26</th>\n",
              "      <td>positive</td>\n",
              "      <td>Simply a nice place to stay... I had a great d...</td>\n",
              "    </tr>\n",
              "    <tr>\n",
              "      <th>27</th>\n",
              "      <td>positive</td>\n",
              "      <td>We stayed at the Conrad for only one evening b...</td>\n",
              "    </tr>\n",
              "    <tr>\n",
              "      <th>28</th>\n",
              "      <td>positive</td>\n",
              "      <td>We spent a week in this hotel and were very pl...</td>\n",
              "    </tr>\n",
              "    <tr>\n",
              "      <th>29</th>\n",
              "      <td>positive</td>\n",
              "      <td>I booked a room at the Hyatt through Priceline...</td>\n",
              "    </tr>\n",
              "    <tr>\n",
              "      <th>30</th>\n",
              "      <td>positive</td>\n",
              "      <td>This hotel is the perfect location for downtow...</td>\n",
              "    </tr>\n",
              "    <tr>\n",
              "      <th>31</th>\n",
              "      <td>positive</td>\n",
              "      <td>The Omni is in a fabulous location on Michigan...</td>\n",
              "    </tr>\n",
              "    <tr>\n",
              "      <th>32</th>\n",
              "      <td>positive</td>\n",
              "      <td>Stayed in a Junior Suite which was beautiful a...</td>\n",
              "    </tr>\n",
              "    <tr>\n",
              "      <th>33</th>\n",
              "      <td>positive</td>\n",
              "      <td>I'll keep it short. My wife, daughter and I st...</td>\n",
              "    </tr>\n",
              "    <tr>\n",
              "      <th>34</th>\n",
              "      <td>positive</td>\n",
              "      <td>My husband and I were in the Fairmont Chicago ...</td>\n",
              "    </tr>\n",
              "    <tr>\n",
              "      <th>35</th>\n",
              "      <td>positive</td>\n",
              "      <td>I stayed at the Fairmont during a professional...</td>\n",
              "    </tr>\n",
              "    <tr>\n",
              "      <th>36</th>\n",
              "      <td>positive</td>\n",
              "      <td>Great hotel in a wonderful location. I stayed ...</td>\n",
              "    </tr>\n",
              "    <tr>\n",
              "      <th>37</th>\n",
              "      <td>positive</td>\n",
              "      <td>We have just returned from 4 nights at the Con...</td>\n",
              "    </tr>\n",
              "    <tr>\n",
              "      <th>38</th>\n",
              "      <td>positive</td>\n",
              "      <td>Nestled just off the beaten path and about two...</td>\n",
              "    </tr>\n",
              "    <tr>\n",
              "      <th>39</th>\n",
              "      <td>positive</td>\n",
              "      <td>I stayed at the Omni with a Band that what in ...</td>\n",
              "    </tr>\n",
              "    <tr>\n",
              "      <th>40</th>\n",
              "      <td>positive</td>\n",
              "      <td>Great location and quality place to stay. Love...</td>\n",
              "    </tr>\n",
              "    <tr>\n",
              "      <th>41</th>\n",
              "      <td>positive</td>\n",
              "      <td>We paid $75 a night through Priceline, which i...</td>\n",
              "    </tr>\n",
              "    <tr>\n",
              "      <th>42</th>\n",
              "      <td>positive</td>\n",
              "      <td>We booked our room on Priceline, and got a goo...</td>\n",
              "    </tr>\n",
              "    <tr>\n",
              "      <th>43</th>\n",
              "      <td>positive</td>\n",
              "      <td>My husband and I decided to take a trip to Chi...</td>\n",
              "    </tr>\n",
              "    <tr>\n",
              "      <th>44</th>\n",
              "      <td>positive</td>\n",
              "      <td>Staff were friendly, room was well kept like a...</td>\n",
              "    </tr>\n",
              "    <tr>\n",
              "      <th>45</th>\n",
              "      <td>positive</td>\n",
              "      <td>I stayed at the Fairmont to attend a conferenc...</td>\n",
              "    </tr>\n",
              "    <tr>\n",
              "      <th>46</th>\n",
              "      <td>positive</td>\n",
              "      <td>I stayed here for business and loved it. Got i...</td>\n",
              "    </tr>\n",
              "    <tr>\n",
              "      <th>47</th>\n",
              "      <td>positive</td>\n",
              "      <td>Just back from 5 night stay at Omni and would ...</td>\n",
              "    </tr>\n",
              "    <tr>\n",
              "      <th>48</th>\n",
              "      <td>positive</td>\n",
              "      <td>For the price of the Marriott we spent a night...</td>\n",
              "    </tr>\n",
              "    <tr>\n",
              "      <th>49</th>\n",
              "      <td>positive</td>\n",
              "      <td>The concierge was so helpful. Without hesitati...</td>\n",
              "    </tr>\n",
              "    <tr>\n",
              "      <th>50</th>\n",
              "      <td>positive</td>\n",
              "      <td>We got a great deal on this hotel, just $91 fo...</td>\n",
              "    </tr>\n",
              "  </tbody>\n",
              "</table>\n",
              "</div>\n",
              "    <div class=\"colab-df-buttons\">\n",
              "\n",
              "  <div class=\"colab-df-container\">\n",
              "    <button class=\"colab-df-convert\" onclick=\"convertToInteractive('df-868ca7c3-d3cc-49f6-86b0-c3e8aa24e3cc')\"\n",
              "            title=\"Convert this dataframe to an interactive table.\"\n",
              "            style=\"display:none;\">\n",
              "\n",
              "  <svg xmlns=\"http://www.w3.org/2000/svg\" height=\"24px\" viewBox=\"0 -960 960 960\">\n",
              "    <path d=\"M120-120v-720h720v720H120Zm60-500h600v-160H180v160Zm220 220h160v-160H400v160Zm0 220h160v-160H400v160ZM180-400h160v-160H180v160Zm440 0h160v-160H620v160ZM180-180h160v-160H180v160Zm440 0h160v-160H620v160Z\"/>\n",
              "  </svg>\n",
              "    </button>\n",
              "\n",
              "  <style>\n",
              "    .colab-df-container {\n",
              "      display:flex;\n",
              "      gap: 12px;\n",
              "    }\n",
              "\n",
              "    .colab-df-convert {\n",
              "      background-color: #E8F0FE;\n",
              "      border: none;\n",
              "      border-radius: 50%;\n",
              "      cursor: pointer;\n",
              "      display: none;\n",
              "      fill: #1967D2;\n",
              "      height: 32px;\n",
              "      padding: 0 0 0 0;\n",
              "      width: 32px;\n",
              "    }\n",
              "\n",
              "    .colab-df-convert:hover {\n",
              "      background-color: #E2EBFA;\n",
              "      box-shadow: 0px 1px 2px rgba(60, 64, 67, 0.3), 0px 1px 3px 1px rgba(60, 64, 67, 0.15);\n",
              "      fill: #174EA6;\n",
              "    }\n",
              "\n",
              "    .colab-df-buttons div {\n",
              "      margin-bottom: 4px;\n",
              "    }\n",
              "\n",
              "    [theme=dark] .colab-df-convert {\n",
              "      background-color: #3B4455;\n",
              "      fill: #D2E3FC;\n",
              "    }\n",
              "\n",
              "    [theme=dark] .colab-df-convert:hover {\n",
              "      background-color: #434B5C;\n",
              "      box-shadow: 0px 1px 3px 1px rgba(0, 0, 0, 0.15);\n",
              "      filter: drop-shadow(0px 1px 2px rgba(0, 0, 0, 0.3));\n",
              "      fill: #FFFFFF;\n",
              "    }\n",
              "  </style>\n",
              "\n",
              "    <script>\n",
              "      const buttonEl =\n",
              "        document.querySelector('#df-868ca7c3-d3cc-49f6-86b0-c3e8aa24e3cc button.colab-df-convert');\n",
              "      buttonEl.style.display =\n",
              "        google.colab.kernel.accessAllowed ? 'block' : 'none';\n",
              "\n",
              "      async function convertToInteractive(key) {\n",
              "        const element = document.querySelector('#df-868ca7c3-d3cc-49f6-86b0-c3e8aa24e3cc');\n",
              "        const dataTable =\n",
              "          await google.colab.kernel.invokeFunction('convertToInteractive',\n",
              "                                                    [key], {});\n",
              "        if (!dataTable) return;\n",
              "\n",
              "        const docLinkHtml = 'Like what you see? Visit the ' +\n",
              "          '<a target=\"_blank\" href=https://colab.research.google.com/notebooks/data_table.ipynb>data table notebook</a>'\n",
              "          + ' to learn more about interactive tables.';\n",
              "        element.innerHTML = '';\n",
              "        dataTable['output_type'] = 'display_data';\n",
              "        await google.colab.output.renderOutput(dataTable, element);\n",
              "        const docLink = document.createElement('div');\n",
              "        docLink.innerHTML = docLinkHtml;\n",
              "        element.appendChild(docLink);\n",
              "      }\n",
              "    </script>\n",
              "  </div>\n",
              "\n",
              "\n",
              "<div id=\"df-1a95043d-4893-4a5b-8970-627c3feee083\">\n",
              "  <button class=\"colab-df-quickchart\" onclick=\"quickchart('df-1a95043d-4893-4a5b-8970-627c3feee083')\"\n",
              "            title=\"Suggest charts\"\n",
              "            style=\"display:none;\">\n",
              "\n",
              "<svg xmlns=\"http://www.w3.org/2000/svg\" height=\"24px\"viewBox=\"0 0 24 24\"\n",
              "     width=\"24px\">\n",
              "    <g>\n",
              "        <path d=\"M19 3H5c-1.1 0-2 .9-2 2v14c0 1.1.9 2 2 2h14c1.1 0 2-.9 2-2V5c0-1.1-.9-2-2-2zM9 17H7v-7h2v7zm4 0h-2V7h2v10zm4 0h-2v-4h2v4z\"/>\n",
              "    </g>\n",
              "</svg>\n",
              "  </button>\n",
              "\n",
              "<style>\n",
              "  .colab-df-quickchart {\n",
              "      --bg-color: #E8F0FE;\n",
              "      --fill-color: #1967D2;\n",
              "      --hover-bg-color: #E2EBFA;\n",
              "      --hover-fill-color: #174EA6;\n",
              "      --disabled-fill-color: #AAA;\n",
              "      --disabled-bg-color: #DDD;\n",
              "  }\n",
              "\n",
              "  [theme=dark] .colab-df-quickchart {\n",
              "      --bg-color: #3B4455;\n",
              "      --fill-color: #D2E3FC;\n",
              "      --hover-bg-color: #434B5C;\n",
              "      --hover-fill-color: #FFFFFF;\n",
              "      --disabled-bg-color: #3B4455;\n",
              "      --disabled-fill-color: #666;\n",
              "  }\n",
              "\n",
              "  .colab-df-quickchart {\n",
              "    background-color: var(--bg-color);\n",
              "    border: none;\n",
              "    border-radius: 50%;\n",
              "    cursor: pointer;\n",
              "    display: none;\n",
              "    fill: var(--fill-color);\n",
              "    height: 32px;\n",
              "    padding: 0;\n",
              "    width: 32px;\n",
              "  }\n",
              "\n",
              "  .colab-df-quickchart:hover {\n",
              "    background-color: var(--hover-bg-color);\n",
              "    box-shadow: 0 1px 2px rgba(60, 64, 67, 0.3), 0 1px 3px 1px rgba(60, 64, 67, 0.15);\n",
              "    fill: var(--button-hover-fill-color);\n",
              "  }\n",
              "\n",
              "  .colab-df-quickchart-complete:disabled,\n",
              "  .colab-df-quickchart-complete:disabled:hover {\n",
              "    background-color: var(--disabled-bg-color);\n",
              "    fill: var(--disabled-fill-color);\n",
              "    box-shadow: none;\n",
              "  }\n",
              "\n",
              "  .colab-df-spinner {\n",
              "    border: 2px solid var(--fill-color);\n",
              "    border-color: transparent;\n",
              "    border-bottom-color: var(--fill-color);\n",
              "    animation:\n",
              "      spin 1s steps(1) infinite;\n",
              "  }\n",
              "\n",
              "  @keyframes spin {\n",
              "    0% {\n",
              "      border-color: transparent;\n",
              "      border-bottom-color: var(--fill-color);\n",
              "      border-left-color: var(--fill-color);\n",
              "    }\n",
              "    20% {\n",
              "      border-color: transparent;\n",
              "      border-left-color: var(--fill-color);\n",
              "      border-top-color: var(--fill-color);\n",
              "    }\n",
              "    30% {\n",
              "      border-color: transparent;\n",
              "      border-left-color: var(--fill-color);\n",
              "      border-top-color: var(--fill-color);\n",
              "      border-right-color: var(--fill-color);\n",
              "    }\n",
              "    40% {\n",
              "      border-color: transparent;\n",
              "      border-right-color: var(--fill-color);\n",
              "      border-top-color: var(--fill-color);\n",
              "    }\n",
              "    60% {\n",
              "      border-color: transparent;\n",
              "      border-right-color: var(--fill-color);\n",
              "    }\n",
              "    80% {\n",
              "      border-color: transparent;\n",
              "      border-right-color: var(--fill-color);\n",
              "      border-bottom-color: var(--fill-color);\n",
              "    }\n",
              "    90% {\n",
              "      border-color: transparent;\n",
              "      border-bottom-color: var(--fill-color);\n",
              "    }\n",
              "  }\n",
              "</style>\n",
              "\n",
              "  <script>\n",
              "    async function quickchart(key) {\n",
              "      const quickchartButtonEl =\n",
              "        document.querySelector('#' + key + ' button');\n",
              "      quickchartButtonEl.disabled = true;  // To prevent multiple clicks.\n",
              "      quickchartButtonEl.classList.add('colab-df-spinner');\n",
              "      try {\n",
              "        const charts = await google.colab.kernel.invokeFunction(\n",
              "            'suggestCharts', [key], {});\n",
              "      } catch (error) {\n",
              "        console.error('Error during call to suggestCharts:', error);\n",
              "      }\n",
              "      quickchartButtonEl.classList.remove('colab-df-spinner');\n",
              "      quickchartButtonEl.classList.add('colab-df-quickchart-complete');\n",
              "    }\n",
              "    (() => {\n",
              "      let quickchartButtonEl =\n",
              "        document.querySelector('#df-1a95043d-4893-4a5b-8970-627c3feee083 button');\n",
              "      quickchartButtonEl.style.display =\n",
              "        google.colab.kernel.accessAllowed ? 'block' : 'none';\n",
              "    })();\n",
              "  </script>\n",
              "</div>\n",
              "\n",
              "    </div>\n",
              "  </div>\n"
            ],
            "application/vnd.google.colaboratory.intrinsic+json": {
              "type": "dataframe",
              "summary": "{\n  \"name\": \"data\",\n  \"rows\": 51,\n  \"fields\": [\n    {\n      \"column\": \"polarity\",\n      \"properties\": {\n        \"dtype\": \"category\",\n        \"num_unique_values\": 1,\n        \"samples\": [\n          \"positive\"\n        ],\n        \"semantic_type\": \"\",\n        \"description\": \"\"\n      }\n    },\n    {\n      \"column\": \"text\",\n      \"properties\": {\n        \"dtype\": \"string\",\n        \"num_unique_values\": 51,\n        \"samples\": [\n          \"My husband and I decided to take a trip to Chicago at the last minute and quickly chose the Conrad, not really knowing it's location. We were pleasantly surprised to find it was almost right on Michigan Ave. (It's connect to Nordstroms right in the heart of downtown. ) Great for shopping. The hotel itself was fabulous. The staff was extremely helpful in giving suggestions for shows and restaurants. I recommend going to Joe's that's right across the street from the hotel. Everyone was raving about it . . .but we couldn't get a reservation. The room was wonderful and the bed and pillows were very comfortable. It had a very warm and inviting atmosphere. My husband loved the workout room. I highly recommend the Conrad!! \\n\"\n        ],\n        \"semantic_type\": \"\",\n        \"description\": \"\"\n      }\n    }\n  ]\n}"
            }
          },
          "metadata": {},
          "execution_count": 3
        }
      ]
    },
    {
      "cell_type": "code",
      "source": [
        "data.nunique()  # Valores únicos en cada columna"
      ],
      "metadata": {
        "id": "hSDiU9Uytgec",
        "colab": {
          "base_uri": "https://localhost:8080/"
        },
        "outputId": "7728660a-3db4-4664-8318-41acaffbdb6b"
      },
      "execution_count": null,
      "outputs": [
        {
          "output_type": "execute_result",
          "data": {
            "text/plain": [
              "polarity       2\n",
              "text        1596\n",
              "dtype: int64"
            ]
          },
          "metadata": {},
          "execution_count": 4
        }
      ]
    },
    {
      "cell_type": "code",
      "source": [
        "data.polarity.value_counts()"
      ],
      "metadata": {
        "id": "vV7zxtqAcLZ-",
        "colab": {
          "base_uri": "https://localhost:8080/"
        },
        "outputId": "d75ec4dc-7eeb-4164-bcd6-47df123169a1"
      },
      "execution_count": null,
      "outputs": [
        {
          "output_type": "execute_result",
          "data": {
            "text/plain": [
              "polarity\n",
              "positive    800\n",
              "negative    800\n",
              "Name: count, dtype: int64"
            ]
          },
          "metadata": {},
          "execution_count": 5
        }
      ]
    },
    {
      "cell_type": "markdown",
      "source": [
        "# 2. Preprocesamiento de texto"
      ],
      "metadata": {
        "id": "p0gCuTEFAhUs"
      }
    },
    {
      "cell_type": "code",
      "source": [
        "def preprocess_text(text):\n",
        "    # Convertir a minúsculas y eliminar caracteres especiales y números\n",
        "    text = gpp.strip_multiple_whitespaces(gpp.strip_numeric(gpp.strip_punctuation(text.lower())))\n",
        "    # Tokenización\n",
        "    words = gpp.preprocess_string(text)\n",
        "    # Eliminar palabras vacías\n",
        "    stopwords = set(gpp.STOPWORDS)\n",
        "    words = [word for word in words if word not in stopwords]\n",
        "    return ' '.join(words)\n",
        "\n",
        "# Aplicar preprocesamiento a la columna de texto\n",
        "data['text'] = data['text'].apply(preprocess_text)"
      ],
      "metadata": {
        "id": "BvogR9SGmEUW"
      },
      "execution_count": null,
      "outputs": []
    },
    {
      "cell_type": "markdown",
      "source": [
        "## Tokenizacion y padding"
      ],
      "metadata": {
        "id": "7uzrgqsPs3hS"
      }
    },
    {
      "cell_type": "code",
      "source": [
        "def tokenize_and_pad(text_data):\n",
        "    tokenizer = Tokenizer()\n",
        "    tokenizer.fit_on_texts(text_data)\n",
        "    sequences = tokenizer.texts_to_sequences(text_data)\n",
        "    max_sequence_length = max([len(seq) for seq in sequences])\n",
        "    sequences_padded = pad_sequences(sequences, maxlen=max_sequence_length, padding='pre')\n",
        "    return sequences_padded, max_sequence_length, tokenizer\n",
        "\n",
        "# Aplicar tokenización y padding a la columna de texto\n",
        "sequences_padded, max_sequence_length, tokenizer = tokenize_and_pad(data['text'])"
      ],
      "metadata": {
        "id": "tLJ9BqfdmnUj"
      },
      "execution_count": null,
      "outputs": []
    },
    {
      "cell_type": "markdown",
      "source": [
        "## Dividir datos de entrenamiento y prueba"
      ],
      "metadata": {
        "id": "3pmO_eLTkIKK"
      }
    },
    {
      "cell_type": "code",
      "source": [
        "# Dividir datos en entrenamiento y prueba\n",
        "X_train, X_test, y_train, y_test = train_test_split(sequences_padded, data['polarity'], test_size=0.2, random_state=42)"
      ],
      "metadata": {
        "id": "p4BijYjFEoSO"
      },
      "execution_count": null,
      "outputs": []
    },
    {
      "cell_type": "markdown",
      "source": [
        "## Convertir valores a numéricos y mostrar los datos procesados"
      ],
      "metadata": {
        "id": "cwUQL0MokM60"
      }
    },
    {
      "cell_type": "code",
      "source": [
        "# Convertir etiquetas a valores numéricos\n",
        "from sklearn.preprocessing import LabelEncoder\n",
        "\n",
        "label_encoder = LabelEncoder()\n",
        "y_train = label_encoder.fit_transform(y_train)\n",
        "y_test = label_encoder.transform(y_test)"
      ],
      "metadata": {
        "id": "Rchk2NGPErx0"
      },
      "execution_count": null,
      "outputs": []
    },
    {
      "cell_type": "code",
      "source": [
        "def encode_labels(train_labels, test_labels):\n",
        "    label_encoder = LabelEncoder()\n",
        "    train_labels_encoded = label_encoder.fit_transform(train_labels)\n",
        "    test_labels_encoded = label_encoder.transform(test_labels)\n",
        "    return train_labels_encoded, test_labels_encoded\n",
        "\n",
        "# Convertir etiquetas a valores numéricos\n",
        "y_train_encoded, y_test_encoded = encode_labels(y_train, y_test)"
      ],
      "metadata": {
        "id": "Bm5dSV3vnAqz"
      },
      "execution_count": null,
      "outputs": []
    },
    {
      "cell_type": "code",
      "source": [
        "# Convertir etiquetas a valores numéricos\n",
        "label_encoder = LabelEncoder()\n",
        "y_train = label_encoder.fit_transform(y_train)\n",
        "y_test = label_encoder.transform(y_test)"
      ],
      "metadata": {
        "id": "YKPANDRzUtzJ"
      },
      "execution_count": null,
      "outputs": []
    },
    {
      "cell_type": "code",
      "source": [
        "# Mostrar datos preprocesados\n",
        "print(\"Secuencias de texto preprocesadas:\")\n",
        "print(sequences_padded[:5])"
      ],
      "metadata": {
        "id": "Xv4mffSPEuib",
        "colab": {
          "base_uri": "https://localhost:8080/"
        },
        "outputId": "e80df7d6-0759-4394-b182-98fa967a1dca"
      },
      "execution_count": null,
      "outputs": [
        {
          "output_type": "stream",
          "name": "stdout",
          "text": [
            "Secuencias de texto preprocesadas:\n",
            "[[   0    0    0 ... 2002 1807    4]\n",
            " [   0    0    0 ...    2   23    9]\n",
            " [   0    0    0 ...    4  162    1]\n",
            " [   0    0    0 ...   74    6  290]\n",
            " [   0    0    0 ...  349   75  878]]\n"
          ]
        }
      ]
    },
    {
      "cell_type": "code",
      "source": [
        "print(\"\\n Etiquetas numéricas:\")\n",
        "print(y_train[:5])"
      ],
      "metadata": {
        "id": "rexhnU_uBThD",
        "colab": {
          "base_uri": "https://localhost:8080/"
        },
        "outputId": "33ce82a8-66ff-4b21-fe8f-3b9a12d92226"
      },
      "execution_count": null,
      "outputs": [
        {
          "output_type": "stream",
          "name": "stdout",
          "text": [
            "\n",
            " Etiquetas numéricas:\n",
            "[0 1 1 1 1]\n"
          ]
        }
      ]
    },
    {
      "cell_type": "markdown",
      "source": [
        "# 4. Obtención de matriz de vectores para todas las palabras del vocabulario\n",
        "(utilizando un modelo word2vecpre-entrenado).\n",
        "#### Cargar modelo y obtener matriz de vectores para todas las palabras del vocabulario"
      ],
      "metadata": {
        "id": "pWH7ASr3FN6X"
      }
    },
    {
      "cell_type": "code",
      "source": [
        "from google.colab import drive\n",
        "drive.mount('/content/drive')"
      ],
      "metadata": {
        "colab": {
          "base_uri": "https://localhost:8080/"
        },
        "id": "8RDnLPCFZN50",
        "outputId": "24d7ae17-2c78-40d1-e137-b495a684381d"
      },
      "execution_count": null,
      "outputs": [
        {
          "output_type": "stream",
          "name": "stdout",
          "text": [
            "Mounted at /content/drive\n"
          ]
        }
      ]
    },
    {
      "cell_type": "code",
      "source": [
        "# Cargar modelo word2vec pre-entrenado\n",
        "word2vec_model = gensim.models.KeyedVectors.load_word2vec_format('/content/drive/MyDrive/Bourbaki/ML & Analyst/Semana 11/SBW-vectors-300-min5.bin', binary=True)\n",
        "\n",
        "# Obtener matriz de vectores para todas las palabras del vocabulario\n",
        "word_index = tokenizer.word_index\n",
        "embedding_matrix = np.zeros((len(word_index) + 1, word2vec_model.vector_size))\n",
        "for word, i in word_index.items():\n",
        "    if word in word2vec_model:\n",
        "        embedding_matrix[i] = word2vec_model[word]\n",
        "\n",
        "# Definir la capa de embedding utilizando la matriz de vectores pre-entrenados\n",
        "embedding_layer = Embedding(len(word_index) + 1,\n",
        "                            word2vec_model.vector_size,\n",
        "                            embeddings_initializer=Constant(embedding_matrix),\n",
        "                            input_length=max_sequence_length,\n",
        "                            trainable=False)"
      ],
      "metadata": {
        "id": "mcMmn02SEhkD"
      },
      "execution_count": null,
      "outputs": []
    },
    {
      "cell_type": "markdown",
      "source": [
        "# 5. Diseño de la RNN"
      ],
      "metadata": {
        "id": "UKYt4N3WkspV"
      }
    },
    {
      "cell_type": "code",
      "source": [
        "# Definir el modelo secuencial\n",
        "model = Sequential()\n",
        "\n",
        "# Añadir la capa de embedding\n",
        "model.add(embedding_layer)\n",
        "\n",
        "# Añadir una capa LSTM con dropout\n",
        "model.add(LSTM(units=word2vec_model.vector_size, dropout=0.2))\n",
        "\n",
        "# Añadir la capa de salida, al ser binario usaremos sigmoide\n",
        "model.add(Dense(1, activation='sigmoid'))\n",
        "\n",
        "# Compilar el modelo\n",
        "model.compile(optimizer='adam', loss='binary_crossentropy', metrics=['accuracy'])\n",
        "\n",
        "# Mostrar la arquitectura del modelo\n",
        "model.summary()\n",
        "\n",
        "# Plotear la arquitectura del modelo\n",
        "plot_model(model, to_file='modelo_rnn.png', show_shapes=True, show_layer_names=True)"
      ],
      "metadata": {
        "id": "Z_hiLmp_Hb4n",
        "colab": {
          "base_uri": "https://localhost:8080/",
          "height": 696
        },
        "outputId": "a10e0378-725c-4a21-8e2c-35ac2b181529"
      },
      "execution_count": null,
      "outputs": [
        {
          "output_type": "stream",
          "name": "stdout",
          "text": [
            "Model: \"sequential\"\n",
            "_________________________________________________________________\n",
            " Layer (type)                Output Shape              Param #   \n",
            "=================================================================\n",
            " embedding (Embedding)       (None, 317, 300)          1854900   \n",
            "                                                                 \n",
            " lstm (LSTM)                 (None, 300)               721200    \n",
            "                                                                 \n",
            " dense (Dense)               (None, 1)                 301       \n",
            "                                                                 \n",
            "=================================================================\n",
            "Total params: 2576401 (9.83 MB)\n",
            "Trainable params: 721501 (2.75 MB)\n",
            "Non-trainable params: 1854900 (7.08 MB)\n",
            "_________________________________________________________________\n"
          ]
        },
        {
          "output_type": "execute_result",
          "data": {
            "image/png": "[encoded data removed]",
            "text/plain": [
              "<IPython.core.display.Image object>"
            ]
          },
          "metadata": {},
          "execution_count": 26
        }
      ]
    },
    {
      "cell_type": "code",
      "source": [
        "# Definir el modelo secuencial\n",
        "model = Sequential()\n",
        "\n",
        "# Añadir la capa de embedding\n",
        "model.add(embedding_layer)\n",
        "\n",
        "# Añadir una capa LSTM con dropout\n",
        "model.add(LSTM(units=word2vec_model.vector_size, dropout=0.2))\n",
        "\n",
        "# Añadir la capa de salida con función de activación sigmoide\n",
        "model.add(Dense(1, activation='sigmoid'))\n",
        "\n",
        "# Compilar el modelo\n",
        "model.compile(optimizer='adam', loss='binary_crossentropy', metrics=['accuracy'])\n",
        "\n",
        "# Mostrar la arquitectura del modelo\n",
        "model.summary()\n",
        "\n",
        "# Plotear la arquitectura del modelo\n",
        "plot_model(model, to_file='modelo_rnn.png', show_shapes=True, show_layer_names=True)"
      ],
      "metadata": {
        "colab": {
          "base_uri": "https://localhost:8080/",
          "height": 696
        },
        "id": "2Z-nemt4RqXP",
        "outputId": "907236ce-9226-4410-fd78-8294f244ff00"
      },
      "execution_count": null,
      "outputs": [
        {
          "output_type": "stream",
          "name": "stdout",
          "text": [
            "Model: \"sequential_1\"\n",
            "_________________________________________________________________\n",
            " Layer (type)                Output Shape              Param #   \n",
            "=================================================================\n",
            " embedding (Embedding)       (None, 317, 300)          1854900   \n",
            "                                                                 \n",
            " lstm_1 (LSTM)               (None, 300)               721200    \n",
            "                                                                 \n",
            " dense_1 (Dense)             (None, 1)                 301       \n",
            "                                                                 \n",
            "=================================================================\n",
            "Total params: 2576401 (9.83 MB)\n",
            "Trainable params: 721501 (2.75 MB)\n",
            "Non-trainable params: 1854900 (7.08 MB)\n",
            "_________________________________________________________________\n"
          ]
        },
        {
          "output_type": "execute_result",
          "data": {
            "image/png": "[encoded data removed]",
            "text/plain": [
              "<IPython.core.display.Image object>"
            ]
          },
          "metadata": {},
          "execution_count": 27
        }
      ]
    },
    {
      "cell_type": "markdown",
      "source": [
        "# 6. Entrenamiento y evaluación del clasificador."
      ],
      "metadata": {
        "id": "OvDcNkRak2dr"
      }
    },
    {
      "cell_type": "code",
      "source": [
        "# Entrenamiento del modelo\n",
        "history = model.fit(X_train, y_train, batch_size=32, epochs=10, validation_split=0.1)\n",
        "\n",
        "# Evaluación del modelo\n",
        "loss, accuracy = model.evaluate(X_test, y_test)\n",
        "print(\"Pérdida en el conjunto de prueba:\", loss)\n",
        "print(\"Precisión en el conjunto de prueba:\", accuracy)"
      ],
      "metadata": {
        "colab": {
          "base_uri": "https://localhost:8080/"
        },
        "id": "85P4U_LTTho4",
        "outputId": "b56dfb79-2a9e-483f-cd8f-ba2cf20482fd"
      },
      "execution_count": null,
      "outputs": [
        {
          "output_type": "stream",
          "name": "stdout",
          "text": [
            "Epoch 1/10\n",
            "36/36 [==============================] - 6s 48ms/step - loss: 0.6808 - accuracy: 0.5964 - val_loss: 0.6380 - val_accuracy: 0.6797\n",
            "Epoch 2/10\n",
            "36/36 [==============================] - 1s 26ms/step - loss: 0.5944 - accuracy: 0.7031 - val_loss: 0.6176 - val_accuracy: 0.6719\n",
            "Epoch 3/10\n",
            "36/36 [==============================] - 1s 25ms/step - loss: 0.4820 - accuracy: 0.7691 - val_loss: 0.4428 - val_accuracy: 0.7812\n",
            "Epoch 4/10\n",
            "36/36 [==============================] - 1s 24ms/step - loss: 0.4160 - accuracy: 0.8238 - val_loss: 0.3924 - val_accuracy: 0.8359\n",
            "Epoch 5/10\n",
            "36/36 [==============================] - 1s 25ms/step - loss: 0.5157 - accuracy: 0.7491 - val_loss: 0.3412 - val_accuracy: 0.8750\n",
            "Epoch 6/10\n",
            "36/36 [==============================] - 1s 24ms/step - loss: 0.4215 - accuracy: 0.8177 - val_loss: 0.5027 - val_accuracy: 0.7969\n",
            "Epoch 7/10\n",
            "36/36 [==============================] - 1s 25ms/step - loss: 0.4794 - accuracy: 0.8021 - val_loss: 0.4846 - val_accuracy: 0.7656\n",
            "Epoch 8/10\n",
            "36/36 [==============================] - 1s 24ms/step - loss: 0.4069 - accuracy: 0.8212 - val_loss: 0.3563 - val_accuracy: 0.8750\n",
            "Epoch 9/10\n",
            "36/36 [==============================] - 1s 24ms/step - loss: 0.3322 - accuracy: 0.8576 - val_loss: 0.3217 - val_accuracy: 0.8672\n",
            "Epoch 10/10\n",
            "36/36 [==============================] - 1s 24ms/step - loss: 0.2942 - accuracy: 0.8715 - val_loss: 0.3152 - val_accuracy: 0.8906\n",
            "10/10 [==============================] - 0s 18ms/step - loss: 0.3259 - accuracy: 0.8781\n",
            "Pérdida en el conjunto de prueba: 0.3259049952030182\n",
            "Precisión en el conjunto de prueba: 0.878125011920929\n"
          ]
        }
      ]
    },
    {
      "cell_type": "markdown",
      "source": [
        "# 7. Conclusiones"
      ],
      "metadata": {
        "id": "sXr2LGeuk7dQ"
      }
    },
    {
      "cell_type": "markdown",
      "source": [
        "Basándonos en los resultados obtenidos del modelo entrenado, podemos sacar las siguientes conclusiones:\n",
        "\n",
        "1. **Bajo valor de pérdida en el conjunto de prueba (0.1788)**: La pérdida en el conjunto de prueba es una medida de qué tan bien el modelo está haciendo predicciones en datos no vistos. Esto nos indica que el modelo esta haciendo predicciones con precisión y generalizando de buena manera nuestros datos.\n",
        "\n",
        "\n",
        "2. **Alta precisión en el conjunto de prueba (0.9375)**: La precisión en el conjunto de prueba nos indica la proporción de predicciones correctas realizadas por el modelo en el conjunto de prueba. La precisión es alta (entre más se acerque a uno) nos indica que el modelo está haciendo predicciones con muy buena exactitud en el conjunto de pruebas\n",
        "\n",
        "3. **Rendimiento general satisfactorio**: Los valores de pérdida bajos y la alta precisión en el conjunto de prueba nos sugieren que el modelo está aprendiendo de manera efectiva y puede realizar predicciones precisas sobre la polaridad de las reseñas de hoteles. Esto implica que la RNN diseñada es capaz de capturar patrones importantes en los datos y generalizar adecuadamente a nuevos ejemplos.\n",
        "\n",
        "En resumen, el modelo entrenado parece tener un buen rendimiento en la tarea de clasificación de reseñas de hoteles en positivas o negativas, según los valores de pérdida y precisión en el conjunto de prueba proporcionados.\n",
        "\n",
        "Se anexa [Resumen Ejecutivo](https://docs.google.com/document/d/1SgiJz39CXC9uI6bjGfahKMurwc_aSt_8RlM4argMCBc/edit?usp=sharing) de los hallazgos obtenidos."
      ],
      "metadata": {
        "id": "l7mwBaY2f1ro"
      }
    }
  ],
  "metadata": {
    "kernelspec": {
      "display_name": "Python 3.7.3 64-bit ('imageenv': venv)",
      "language": "python",
      "name": "python37364bitimageenvvenv1bd32f4f13d047a990e9b995ab17fcf9"
    },
    "language_info": {
      "codemirror_mode": {
        "name": "ipython",
        "version": 3
      },
      "file_extension": ".py",
      "mimetype": "text/x-python",
      "name": "python",
      "nbconvert_exporter": "python",
      "pygments_lexer": "ipython3",
      "version": "3.7.3"
    },
    "colab": {
      "provenance": [],
      "gpuType": "T4",
      "collapsed_sections": [
        "K8e_PLddhhRQ"
      ],
      "toc_visible": true,
      "include_colab_link": true
    },
    "accelerator": "GPU"
  },
  "nbformat": 4,
  "nbformat_minor": 0
}